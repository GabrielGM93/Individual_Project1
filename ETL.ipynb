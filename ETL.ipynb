{
 "cells": [
  {
   "cell_type": "code",
   "execution_count": 10,
   "metadata": {},
   "outputs": [],
   "source": [
    "import pandas as pd"
   ]
  },
  {
   "cell_type": "code",
   "execution_count": 33,
   "metadata": {},
   "outputs": [],
   "source": [
    "dataamazon = pd.read_csv( \"datasets/amazon_prime_titles.csv\")\n",
    "datadisney = pd.read_csv( \"datasets/disney_plus_titles.csv\")\n",
    "datahulu = pd.read_csv( \"datasets/hulu_titles.csv\")\n",
    "datanetflix = pd.read_csv(\"datasets/netflix_titles.csv\")\n",
    "\n",
    "\n",
    "#Data transform, add score\n",
    "\n",
    "data1 = pd.read_csv(\"datasets/ratings/1.csv\")#,usecols=(1,3))\n",
    "data2 = pd.read_csv(\"datasets/ratings/2.csv\")#, usecols=(1,3))\n",
    "data3 = pd.read_csv(\"datasets/ratings/3.csv\")#, usecols=(1,3))\n",
    "data4 = pd.read_csv(\"datasets/ratings/4.csv\")#, usecols=(1,3))\n",
    "data5 = pd.read_csv(\"datasets/ratings/5.csv\")#, usecols=(1,3))\n",
    "data6 = pd.read_csv(\"datasets/ratings/6.csv\")#, usecols=(1,3))\n",
    "data7 = pd.read_csv(\"datasets/ratings/7.csv\")#, usecols=(1,3))\n",
    "data8 = pd.read_csv(\"datasets/ratings/8.csv\")#, usecols=(1,3))\n",
    "\n",
    "\n",
    "#drop duplicates\n",
    "data1.drop_duplicates(inplace=True)\n",
    "data2.drop_duplicates(inplace=True)\n",
    "data3.drop_duplicates(inplace=True)\n",
    "data4.drop_duplicates(inplace=True)\n",
    "data5.drop_duplicates(inplace=True)\n",
    "data6.drop_duplicates(inplace=True)\n",
    "data7.drop_duplicates(inplace=True)\n",
    "data8.drop_duplicates(inplace=True)"
   ]
  },
  {
   "cell_type": "code",
   "execution_count": 12,
   "metadata": {},
   "outputs": [],
   "source": [
    "# MAKE COLUMNS ID = FIRST LETTER + SHOW_ID\n",
    "dataamazon[\"ID\"] = \"a\"+ dataamazon[\"show_id\"]\n",
    "datadisney[\"ID\"] = \"d\"+ datadisney[\"show_id\"]\n",
    "datahulu[\"ID\"] = \"h\"+ datahulu[\"show_id\"]\n",
    "datanetflix[\"ID\"] = \"n\"+ datanetflix[\"show_id\"]\n",
    "\n",
    "# DROP COLUMN SHOW_ID\n",
    "dataamazon.drop(columns = [\"show_id\"], inplace = True)\n",
    "datadisney.drop(columns = [\"show_id\"], inplace = True)\n",
    "datahulu.drop(columns = [\"show_id\"], inplace = True)\n",
    "datanetflix.drop(columns = [\"show_id\"], inplace = True)\n",
    "\n"
   ]
  },
  {
   "cell_type": "code",
   "execution_count": 13,
   "metadata": {},
   "outputs": [],
   "source": [
    "# concatenate df\n",
    "datatotal2 = pd.concat([dataamazon,datanetflix,datahulu,datadisney], ignore_index= True)\n",
    "\n",
    "#rename column for merge\n",
    "datatotal2.rename(columns={'ID':'movieId'},inplace=True)\n",
    "\n",
    "#concatenate rating\n",
    "\n",
    "datarating = pd.concat([data1,data2,data3,data4,data5,data6,data7,data8], ignore_index= True)\n",
    "\n",
    "#drop column that I am not going to use\n",
    "datarating.drop(columns = [\"userId\",\"timestamp\"], inplace = True)\n",
    "\n",
    "#group by movieId + mean\n",
    "\n",
    "datarprom = datarating.groupby(['movieId']).mean()\n",
    "\n",
    "#Merge\n",
    "\n",
    "datatotal = pd.merge(datatotal2,datarprom, on=[\"movieId\"])\n"
   ]
  },
  {
   "cell_type": "code",
   "execution_count": 14,
   "metadata": {},
   "outputs": [
    {
     "data": {
      "text/html": [
       "<div>\n",
       "<style scoped>\n",
       "    .dataframe tbody tr th:only-of-type {\n",
       "        vertical-align: middle;\n",
       "    }\n",
       "\n",
       "    .dataframe tbody tr th {\n",
       "        vertical-align: top;\n",
       "    }\n",
       "\n",
       "    .dataframe thead th {\n",
       "        text-align: right;\n",
       "    }\n",
       "</style>\n",
       "<table border=\"1\" class=\"dataframe\">\n",
       "  <thead>\n",
       "    <tr style=\"text-align: right;\">\n",
       "      <th></th>\n",
       "      <th>type</th>\n",
       "      <th>title</th>\n",
       "      <th>director</th>\n",
       "      <th>cast</th>\n",
       "      <th>country</th>\n",
       "      <th>date_added</th>\n",
       "      <th>release_year</th>\n",
       "      <th>rating</th>\n",
       "      <th>duration</th>\n",
       "      <th>listed_in</th>\n",
       "      <th>description</th>\n",
       "      <th>ID</th>\n",
       "      <th>score</th>\n",
       "    </tr>\n",
       "  </thead>\n",
       "  <tbody>\n",
       "    <tr>\n",
       "      <th>0</th>\n",
       "      <td>Movie</td>\n",
       "      <td>The Grand Seduction</td>\n",
       "      <td>Don McKellar</td>\n",
       "      <td>Brendan Gleeson, Taylor Kitsch, Gordon Pinsent</td>\n",
       "      <td>Canada</td>\n",
       "      <td>March 30, 2021</td>\n",
       "      <td>2014</td>\n",
       "      <td>NaN</td>\n",
       "      <td>113 min</td>\n",
       "      <td>Comedy, Drama</td>\n",
       "      <td>A small fishing village must procure a local d...</td>\n",
       "      <td>as1</td>\n",
       "      <td>3.467131</td>\n",
       "    </tr>\n",
       "    <tr>\n",
       "      <th>1</th>\n",
       "      <td>Movie</td>\n",
       "      <td>Take Care Good Night</td>\n",
       "      <td>Girish Joshi</td>\n",
       "      <td>Mahesh Manjrekar, Abhay Mahajan, Sachin Khedekar</td>\n",
       "      <td>India</td>\n",
       "      <td>March 30, 2021</td>\n",
       "      <td>2018</td>\n",
       "      <td>13+</td>\n",
       "      <td>110 min</td>\n",
       "      <td>Drama, International</td>\n",
       "      <td>A Metro Family decides to fight a Cyber Crimin...</td>\n",
       "      <td>as2</td>\n",
       "      <td>3.548682</td>\n",
       "    </tr>\n",
       "    <tr>\n",
       "      <th>2</th>\n",
       "      <td>Movie</td>\n",
       "      <td>Secrets of Deception</td>\n",
       "      <td>Josh Webber</td>\n",
       "      <td>Tom Sizemore, Lorenzo Lamas, Robert LaSardo, R...</td>\n",
       "      <td>United States</td>\n",
       "      <td>March 30, 2021</td>\n",
       "      <td>2017</td>\n",
       "      <td>NaN</td>\n",
       "      <td>74 min</td>\n",
       "      <td>Action, Drama, Suspense</td>\n",
       "      <td>After a man discovers his wife is cheating on ...</td>\n",
       "      <td>as3</td>\n",
       "      <td>3.500000</td>\n",
       "    </tr>\n",
       "    <tr>\n",
       "      <th>3</th>\n",
       "      <td>Movie</td>\n",
       "      <td>Pink: Staying True</td>\n",
       "      <td>Sonia Anderson</td>\n",
       "      <td>Interviews with: Pink, Adele, Beyoncé, Britney...</td>\n",
       "      <td>United States</td>\n",
       "      <td>March 30, 2021</td>\n",
       "      <td>2014</td>\n",
       "      <td>NaN</td>\n",
       "      <td>69 min</td>\n",
       "      <td>Documentary</td>\n",
       "      <td>Pink breaks the mold once again, bringing her ...</td>\n",
       "      <td>as4</td>\n",
       "      <td>3.538055</td>\n",
       "    </tr>\n",
       "    <tr>\n",
       "      <th>4</th>\n",
       "      <td>Movie</td>\n",
       "      <td>Monster Maker</td>\n",
       "      <td>Giles Foster</td>\n",
       "      <td>Harry Dean Stanton, Kieran O'Brien, George Cos...</td>\n",
       "      <td>United Kingdom</td>\n",
       "      <td>March 30, 2021</td>\n",
       "      <td>1989</td>\n",
       "      <td>NaN</td>\n",
       "      <td>45 min</td>\n",
       "      <td>Drama, Fantasy</td>\n",
       "      <td>Teenage Matt Banting wants to work with a famo...</td>\n",
       "      <td>as5</td>\n",
       "      <td>3.478992</td>\n",
       "    </tr>\n",
       "  </tbody>\n",
       "</table>\n",
       "</div>"
      ],
      "text/plain": [
       "    type                 title        director  \\\n",
       "0  Movie   The Grand Seduction    Don McKellar   \n",
       "1  Movie  Take Care Good Night    Girish Joshi   \n",
       "2  Movie  Secrets of Deception     Josh Webber   \n",
       "3  Movie    Pink: Staying True  Sonia Anderson   \n",
       "4  Movie         Monster Maker    Giles Foster   \n",
       "\n",
       "                                                cast         country  \\\n",
       "0     Brendan Gleeson, Taylor Kitsch, Gordon Pinsent          Canada   \n",
       "1   Mahesh Manjrekar, Abhay Mahajan, Sachin Khedekar           India   \n",
       "2  Tom Sizemore, Lorenzo Lamas, Robert LaSardo, R...   United States   \n",
       "3  Interviews with: Pink, Adele, Beyoncé, Britney...   United States   \n",
       "4  Harry Dean Stanton, Kieran O'Brien, George Cos...  United Kingdom   \n",
       "\n",
       "       date_added  release_year rating duration                listed_in  \\\n",
       "0  March 30, 2021          2014    NaN  113 min            Comedy, Drama   \n",
       "1  March 30, 2021          2018    13+  110 min     Drama, International   \n",
       "2  March 30, 2021          2017    NaN   74 min  Action, Drama, Suspense   \n",
       "3  March 30, 2021          2014    NaN   69 min              Documentary   \n",
       "4  March 30, 2021          1989    NaN   45 min           Drama, Fantasy   \n",
       "\n",
       "                                         description   ID     score  \n",
       "0  A small fishing village must procure a local d...  as1  3.467131  \n",
       "1  A Metro Family decides to fight a Cyber Crimin...  as2  3.548682  \n",
       "2  After a man discovers his wife is cheating on ...  as3  3.500000  \n",
       "3  Pink breaks the mold once again, bringing her ...  as4  3.538055  \n",
       "4  Teenage Matt Banting wants to work with a famo...  as5  3.478992  "
      ]
     },
     "execution_count": 14,
     "metadata": {},
     "output_type": "execute_result"
    }
   ],
   "source": [
    "#RENAME COLUMNS,TO PREVENT CHANGES IN INITIAL DATAFRAME\n",
    "\n",
    "datatotal.rename(columns={'movieId':'ID'},inplace=True)\n",
    "datatotal.rename(columns={'rating_x':'rating'},inplace=True)\n",
    "datatotal.rename(columns={'rating_y':'score'},inplace=True)\n",
    "datatotal.head()"
   ]
  },
  {
   "cell_type": "code",
   "execution_count": 15,
   "metadata": {},
   "outputs": [],
   "source": [
    "#The null values of the rating field must be replaced by the string “G”\n",
    "datatotal[\"rating\"].fillna(\"G\", inplace = True)\n",
    "\n",
    "#If there are dates, they must have the format YYYY-mm-dd\n",
    "\n",
    "datatotal[\"date_added\"] = pd.to_datetime(datatotal[\"date_added\"])\n",
    "\n",
    "\n",
    "#Text fields must be in lowercase, no exceptions\n",
    "datatotal[\"type\"] = datatotal[\"type\"].str.lower()\n",
    "datatotal[\"title\"] = datatotal[\"title\"].str.lower()\n",
    "datatotal[\"director\"] = datatotal[\"director\"].str.lower()\n",
    "datatotal[\"cast\"] = datatotal[\"cast\"].str.lower()\n",
    "datatotal[\"country\"] = datatotal[\"country\"].str.lower()\n",
    "datatotal[\"rating\"] = datatotal[\"rating\"].str.lower()\n",
    "datatotal[\"listed_in\"] = datatotal[\"type\"].str.lower()\n",
    "datatotal[\"description\"] = datatotal[\"description\"].str.lower()\n",
    "datatotal[\"ID\"] = datatotal[\"ID\"].str.lower()\n",
    "datatotal[\"duration\"] = datatotal[\"duration\"].str.lower()"
   ]
  },
  {
   "cell_type": "code",
   "execution_count": 16,
   "metadata": {},
   "outputs": [],
   "source": [
    "#The field duration must be converted to two fields: duration_int and duration_type. \n",
    "#The first will be an integer and the second a string indicating the unit of duration measurement: min (minutes) or season (seasons).\n",
    "datatotal[['duration_int','duration_type']]=datatotal.duration.str.split(' ',expand=True)\n",
    "\n",
    "#Drop tabla duration\n",
    "\n",
    "datatotal.drop(columns = [\"duration\"], inplace = True)\n"
   ]
  },
  {
   "cell_type": "code",
   "execution_count": 17,
   "metadata": {},
   "outputs": [],
   "source": [
    "#ETL, REPLACE SEASONS TO SEASON for EDA\n",
    "datatotal[\"duration_type\"].replace(\"seasons\",\"season\", inplace= True)"
   ]
  },
  {
   "cell_type": "code",
   "execution_count": 18,
   "metadata": {},
   "outputs": [],
   "source": [
    "#save\n",
    "datatotal.to_csv(\"datasets/datatotal.csv\", sep=',', index= False)\n"
   ]
  },
  {
   "cell_type": "code",
   "execution_count": 19,
   "metadata": {},
   "outputs": [],
   "source": [
    "datatotal[\"ID\"].to_csv(\"datasets/Id.csv\", sep=',')"
   ]
  },
  {
   "cell_type": "code",
   "execution_count": 20,
   "metadata": {},
   "outputs": [
    {
     "data": {
      "text/html": [
       "<div>\n",
       "<style scoped>\n",
       "    .dataframe tbody tr th:only-of-type {\n",
       "        vertical-align: middle;\n",
       "    }\n",
       "\n",
       "    .dataframe tbody tr th {\n",
       "        vertical-align: top;\n",
       "    }\n",
       "\n",
       "    .dataframe thead th {\n",
       "        text-align: right;\n",
       "    }\n",
       "</style>\n",
       "<table border=\"1\" class=\"dataframe\">\n",
       "  <thead>\n",
       "    <tr style=\"text-align: right;\">\n",
       "      <th></th>\n",
       "      <th>type</th>\n",
       "      <th>title</th>\n",
       "      <th>director</th>\n",
       "      <th>cast</th>\n",
       "      <th>country</th>\n",
       "      <th>date_added</th>\n",
       "      <th>release_year</th>\n",
       "      <th>rating</th>\n",
       "      <th>listed_in</th>\n",
       "      <th>description</th>\n",
       "      <th>ID</th>\n",
       "      <th>score</th>\n",
       "      <th>duration_int</th>\n",
       "      <th>duration_type</th>\n",
       "    </tr>\n",
       "  </thead>\n",
       "  <tbody>\n",
       "    <tr>\n",
       "      <th>0</th>\n",
       "      <td>movie</td>\n",
       "      <td>the grand seduction</td>\n",
       "      <td>don mckellar</td>\n",
       "      <td>brendan gleeson, taylor kitsch, gordon pinsent</td>\n",
       "      <td>canada</td>\n",
       "      <td>2021-03-30</td>\n",
       "      <td>2014</td>\n",
       "      <td>g</td>\n",
       "      <td>movie</td>\n",
       "      <td>a small fishing village must procure a local d...</td>\n",
       "      <td>as1</td>\n",
       "      <td>3.467131</td>\n",
       "      <td>113</td>\n",
       "      <td>min</td>\n",
       "    </tr>\n",
       "    <tr>\n",
       "      <th>1</th>\n",
       "      <td>movie</td>\n",
       "      <td>take care good night</td>\n",
       "      <td>girish joshi</td>\n",
       "      <td>mahesh manjrekar, abhay mahajan, sachin khedekar</td>\n",
       "      <td>india</td>\n",
       "      <td>2021-03-30</td>\n",
       "      <td>2018</td>\n",
       "      <td>13+</td>\n",
       "      <td>movie</td>\n",
       "      <td>a metro family decides to fight a cyber crimin...</td>\n",
       "      <td>as2</td>\n",
       "      <td>3.548682</td>\n",
       "      <td>110</td>\n",
       "      <td>min</td>\n",
       "    </tr>\n",
       "    <tr>\n",
       "      <th>2</th>\n",
       "      <td>movie</td>\n",
       "      <td>secrets of deception</td>\n",
       "      <td>josh webber</td>\n",
       "      <td>tom sizemore, lorenzo lamas, robert lasardo, r...</td>\n",
       "      <td>united states</td>\n",
       "      <td>2021-03-30</td>\n",
       "      <td>2017</td>\n",
       "      <td>g</td>\n",
       "      <td>movie</td>\n",
       "      <td>after a man discovers his wife is cheating on ...</td>\n",
       "      <td>as3</td>\n",
       "      <td>3.500000</td>\n",
       "      <td>74</td>\n",
       "      <td>min</td>\n",
       "    </tr>\n",
       "    <tr>\n",
       "      <th>3</th>\n",
       "      <td>movie</td>\n",
       "      <td>pink: staying true</td>\n",
       "      <td>sonia anderson</td>\n",
       "      <td>interviews with: pink, adele, beyoncé, britney...</td>\n",
       "      <td>united states</td>\n",
       "      <td>2021-03-30</td>\n",
       "      <td>2014</td>\n",
       "      <td>g</td>\n",
       "      <td>movie</td>\n",
       "      <td>pink breaks the mold once again, bringing her ...</td>\n",
       "      <td>as4</td>\n",
       "      <td>3.538055</td>\n",
       "      <td>69</td>\n",
       "      <td>min</td>\n",
       "    </tr>\n",
       "    <tr>\n",
       "      <th>4</th>\n",
       "      <td>movie</td>\n",
       "      <td>monster maker</td>\n",
       "      <td>giles foster</td>\n",
       "      <td>harry dean stanton, kieran o'brien, george cos...</td>\n",
       "      <td>united kingdom</td>\n",
       "      <td>2021-03-30</td>\n",
       "      <td>1989</td>\n",
       "      <td>g</td>\n",
       "      <td>movie</td>\n",
       "      <td>teenage matt banting wants to work with a famo...</td>\n",
       "      <td>as5</td>\n",
       "      <td>3.478992</td>\n",
       "      <td>45</td>\n",
       "      <td>min</td>\n",
       "    </tr>\n",
       "  </tbody>\n",
       "</table>\n",
       "</div>"
      ],
      "text/plain": [
       "    type                 title        director  \\\n",
       "0  movie   the grand seduction    don mckellar   \n",
       "1  movie  take care good night    girish joshi   \n",
       "2  movie  secrets of deception     josh webber   \n",
       "3  movie    pink: staying true  sonia anderson   \n",
       "4  movie         monster maker    giles foster   \n",
       "\n",
       "                                                cast         country  \\\n",
       "0     brendan gleeson, taylor kitsch, gordon pinsent          canada   \n",
       "1   mahesh manjrekar, abhay mahajan, sachin khedekar           india   \n",
       "2  tom sizemore, lorenzo lamas, robert lasardo, r...   united states   \n",
       "3  interviews with: pink, adele, beyoncé, britney...   united states   \n",
       "4  harry dean stanton, kieran o'brien, george cos...  united kingdom   \n",
       "\n",
       "  date_added  release_year rating listed_in  \\\n",
       "0 2021-03-30          2014      g     movie   \n",
       "1 2021-03-30          2018    13+     movie   \n",
       "2 2021-03-30          2017      g     movie   \n",
       "3 2021-03-30          2014      g     movie   \n",
       "4 2021-03-30          1989      g     movie   \n",
       "\n",
       "                                         description   ID     score  \\\n",
       "0  a small fishing village must procure a local d...  as1  3.467131   \n",
       "1  a metro family decides to fight a cyber crimin...  as2  3.548682   \n",
       "2  after a man discovers his wife is cheating on ...  as3  3.500000   \n",
       "3  pink breaks the mold once again, bringing her ...  as4  3.538055   \n",
       "4  teenage matt banting wants to work with a famo...  as5  3.478992   \n",
       "\n",
       "  duration_int duration_type  \n",
       "0          113           min  \n",
       "1          110           min  \n",
       "2           74           min  \n",
       "3           69           min  \n",
       "4           45           min  "
      ]
     },
     "execution_count": 20,
     "metadata": {},
     "output_type": "execute_result"
    }
   ],
   "source": [
    "datatotal.head()"
   ]
  },
  {
   "cell_type": "code",
   "execution_count": 21,
   "metadata": {},
   "outputs": [],
   "source": [
    "#Movie with longer duration with optional filters of YEAR, PLATFORM AND TYPE OF DURATION. (the function should be called get_max_duration(year, platform, duration_type))\n",
    "\n",
    "def get_max_duration(year, platform, duration_type):\n",
    "    lista=[]\n",
    "    lista2=[]\n",
    "    for ind,z in enumerate (datatotal[\"release_year\"]):\n",
    "        if (z == year):\n",
    "            if (datatotal[\"duration_type\"][ind] == duration_type):\n",
    "                if datatotal[\"ID\"][ind][0] == platform:\n",
    "                    lista.append(int(datatotal[\"duration_int\"][ind]))\n",
    "                    lista2.append(ind)\n",
    "                    b = max(lista)\n",
    "                    c = lista.index(b)\n",
    "                    d = lista2[c]\n",
    "\n",
    "    return (datatotal[\"title\"][d])\n",
    "                \n",
    "\n"
   ]
  },
  {
   "cell_type": "code",
   "execution_count": 22,
   "metadata": {},
   "outputs": [
    {
     "data": {
      "text/plain": [
       "'the manchurian candidate'"
      ]
     },
     "execution_count": 22,
     "metadata": {},
     "output_type": "execute_result"
    }
   ],
   "source": [
    "get_max_duration(2004,\"h\",\"min\")"
   ]
  },
  {
   "cell_type": "code",
   "execution_count": 23,
   "metadata": {},
   "outputs": [
    {
     "data": {
      "text/plain": [
       "type                                                         movie\n",
       "title                      midnight thunderstorm for sleep 9 hours\n",
       "director                                               mark knight\n",
       "cast                                                           NaN\n",
       "country                                                        NaN\n",
       "date_added                                                     NaT\n",
       "release_year                                                  2014\n",
       "rating                                                         all\n",
       "listed_in                                                    movie\n",
       "description      our most popular ambient sleep video is a full...\n",
       "ID                                                          as1674\n",
       "score                                                      3.50303\n",
       "duration_int                                                   541\n",
       "duration_type                                                  min\n",
       "Name: 1673, dtype: object"
      ]
     },
     "execution_count": 23,
     "metadata": {},
     "output_type": "execute_result"
    }
   ],
   "source": [
    "datatotal.iloc[1673,:]"
   ]
  },
  {
   "cell_type": "code",
   "execution_count": 24,
   "metadata": {},
   "outputs": [],
   "source": [
    "#Number of movies per platform with a score greater than XX in a given year (the function must be called get_score_count(platform, scored, year))\n",
    "def get_score_count(platform, scored, year):\n",
    "    lista=[]\n",
    "    for ind,z in enumerate (datatotal[\"release_year\"]):\n",
    "        if (z == year):\n",
    "            if datatotal[\"ID\"][ind][0] == platform:\n",
    "                if datatotal[\"score\"][ind] > scored:\n",
    "                     lista.append(float(datatotal[\"score\"][ind]))\n",
    "                \n",
    "    return len(lista)"
   ]
  },
  {
   "cell_type": "code",
   "execution_count": 25,
   "metadata": {},
   "outputs": [
    {
     "data": {
      "text/plain": [
       "962"
      ]
     },
     "execution_count": 25,
     "metadata": {},
     "output_type": "execute_result"
    }
   ],
   "source": [
    "get_score_count(\"a\",2.5,2020)"
   ]
  },
  {
   "cell_type": "code",
   "execution_count": 26,
   "metadata": {},
   "outputs": [],
   "source": [
    "#Number of movies per platform with PLATFORM filter. (The function should be called get_count_platform(platform))\n",
    "def get_count_platform(platform):\n",
    "    a=0\n",
    "    for z in (datatotal[\"ID\"]):\n",
    "        if z[0] == platform:\n",
    "            a += 1\n",
    "    return a"
   ]
  },
  {
   "cell_type": "code",
   "execution_count": 27,
   "metadata": {},
   "outputs": [
    {
     "data": {
      "text/plain": [
       "3073"
      ]
     },
     "execution_count": 27,
     "metadata": {},
     "output_type": "execute_result"
    }
   ],
   "source": [
    "get_count_platform(\"h\")"
   ]
  },
  {
   "cell_type": "code",
   "execution_count": 28,
   "metadata": {},
   "outputs": [],
   "source": [
    "#Actor who repeats himself the most according to platform and year. (The function should be called get_actor(platform, year))\n",
    "\n",
    "def get_actor(platform, year):\n",
    "    lista=[]\n",
    "    lista4 =[]\n",
    "    b=0\n",
    "    if platform == \"h\":\n",
    "        return(\"Hulu no tiene base de datos de actores\")\n",
    "    for ind,z in enumerate (datatotal[\"release_year\"]):\n",
    "        if (z == year):\n",
    "            if datatotal[\"ID\"][ind][0] == platform:\n",
    "                lista.append(datatotal[\"cast\"][ind])  #ARMO LISTA EN BASE A PLATAFORMA Y AÑO\n",
    "    for indice, a in enumerate (lista): #SUBDIVIDO LA LISTA POR CADA NOMBRE\n",
    "     if type(a)== str:\n",
    "          lista[indice]= a.split(\", \")\n",
    "\n",
    "    for a in lista:\n",
    "        if type(a)== list: # ARMO UNA LISTA APARTE SIN LOS NAN\n",
    "            lista4.append(a)\n",
    "    flatlist =[elemento for sublista in lista4 for elemento in sublista]  #FLAT\n",
    "    for ind,a in enumerate(flatlist):  #CON COUNT BUSCO CUAL SE REPITE MAS Y LO RETORNO\n",
    "        if flatlist.count(a) > b:\n",
    "            b= flatlist.count(a)\n",
    "            d= flatlist[ind]\n",
    "    return(d)"
   ]
  },
  {
   "cell_type": "code",
   "execution_count": 29,
   "metadata": {},
   "outputs": [
    {
     "data": {
      "text/plain": [
       "'anne-marie newland'"
      ]
     },
     "execution_count": 29,
     "metadata": {},
     "output_type": "execute_result"
    }
   ],
   "source": [
    "get_actor(\"a\",2014)"
   ]
  },
  {
   "cell_type": "code",
   "execution_count": 30,
   "metadata": {},
   "outputs": [
    {
     "name": "stdout",
     "output_type": "stream",
     "text": [
      "silence\n"
     ]
    }
   ],
   "source": [
    "film_time = []\n",
    "film_name = []\n",
    "for k, l in enumerate (datatotal['release_year']):\n",
    "    if l == 2016:\n",
    "        if datatotal['ID'][k][0] == \"h\":\n",
    "            if datatotal['duration_type'][k] == \"min\":\n",
    "                film_time.append(int(datatotal['duration_int'][k]))\n",
    "                film_name.append(k)\n",
    "                maximo = max(film_time)\n",
    "                film = film_time.index(maximo)\n",
    "                show_name = datatotal['title'][film_name[film]]\n",
    "print(show_name)"
   ]
  },
  {
   "cell_type": "code",
   "execution_count": null,
   "metadata": {},
   "outputs": [],
   "source": []
  },
  {
   "cell_type": "code",
   "execution_count": null,
   "metadata": {},
   "outputs": [],
   "source": []
  },
  {
   "cell_type": "code",
   "execution_count": null,
   "metadata": {},
   "outputs": [],
   "source": []
  },
  {
   "cell_type": "code",
   "execution_count": null,
   "metadata": {},
   "outputs": [],
   "source": []
  },
  {
   "cell_type": "code",
   "execution_count": null,
   "metadata": {},
   "outputs": [],
   "source": []
  },
  {
   "cell_type": "code",
   "execution_count": null,
   "metadata": {},
   "outputs": [],
   "source": []
  },
  {
   "cell_type": "code",
   "execution_count": null,
   "metadata": {},
   "outputs": [],
   "source": []
  },
  {
   "cell_type": "code",
   "execution_count": null,
   "metadata": {},
   "outputs": [],
   "source": []
  },
  {
   "cell_type": "code",
   "execution_count": null,
   "metadata": {},
   "outputs": [],
   "source": []
  },
  {
   "cell_type": "code",
   "execution_count": null,
   "metadata": {},
   "outputs": [],
   "source": []
  },
  {
   "cell_type": "code",
   "execution_count": null,
   "metadata": {},
   "outputs": [],
   "source": []
  }
 ],
 "metadata": {
  "kernelspec": {
   "display_name": "Python 3",
   "language": "python",
   "name": "python3"
  },
  "language_info": {
   "codemirror_mode": {
    "name": "ipython",
    "version": 3
   },
   "file_extension": ".py",
   "mimetype": "text/x-python",
   "name": "python",
   "nbconvert_exporter": "python",
   "pygments_lexer": "ipython3",
   "version": "3.11.0"
  },
  "orig_nbformat": 4,
  "vscode": {
   "interpreter": {
    "hash": "22b00116dadeb3b5f70cb6fd972cf99d082f421ce5417173dab43b9346a08737"
   }
  }
 },
 "nbformat": 4,
 "nbformat_minor": 2
}
